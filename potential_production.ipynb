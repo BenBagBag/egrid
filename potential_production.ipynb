{
 "cells": [
  {
   "cell_type": "code",
   "execution_count": null,
   "id": "dff14c78",
   "metadata": {},
   "outputs": [],
   "source": [
    "This was a beginning attempt to estimate possible production. I think it fails because if we want to compare the current output to average output for generators of type x, we're just using that same capacity factor."
   ]
  },
  {
   "cell_type": "code",
   "execution_count": null,
   "id": "a443d090",
   "metadata": {},
   "outputs": [],
   "source": [
    "## Can the Current Power Grid Support Future Electricity Needs?\n",
    "\n",
    "We will calculate the potential electric output of each power plant by using the average output [[[of what]]] from [EPI](http://www.earth-policy.org/datacenter/xls/book_wote_ch9_overview_7.xls). \n",
    "\n",
    "\n",
    "- Nameplate capacity: the maximum output of power production equipment, estimated by the manufacturer, based on ideal conditions. This number is always higher than the actual annual electricity production, due to equipment maintenance/repair and fluctuating fuel availability.\n",
    "- Capacity factor: the ratio of actual power production to the theoretical maximum production. This is calculated as: `annualMwhProduction / (365 days * 24 hours * totalNameplateCapacity)`. "
   ]
  },
  {
   "cell_type": "code",
   "execution_count": null,
   "id": "21a8e962",
   "metadata": {},
   "outputs": [],
   "source": [
    "# use average capacity * nameplate capacity to get potential capacity (from averages from EPI)\n",
    "\n",
    "def get_theoretical_electric_production(current_output, nameplate_capacity, new_capacity_factor):\n",
    "    '''\n",
    "    Calculate a power plant's annual electricity production with a different capacity factor.\n",
    "    \n",
    "    current_output: a power plant's annual MWh production\n",
    "    \n",
    "    nameplate_capacity: the power plant's nameplate capacity. We assume that this value does not change.\n",
    "    \n",
    "    new_capacity_factor: the capacity factor used to estimate potential electricity production\n",
    "    '''\n",
    "    \n",
    "    return new_capacity_factor * nameplate_capacity * 24 * 365"
   ]
  }
 ],
 "metadata": {
  "kernelspec": {
   "display_name": "Python 3 (ipykernel)",
   "language": "python",
   "name": "python3"
  },
  "language_info": {
   "codemirror_mode": {
    "name": "ipython",
    "version": 3
   },
   "file_extension": ".py",
   "mimetype": "text/x-python",
   "name": "python",
   "nbconvert_exporter": "python",
   "pygments_lexer": "ipython3",
   "version": "3.9.16"
  }
 },
 "nbformat": 4,
 "nbformat_minor": 5
}
