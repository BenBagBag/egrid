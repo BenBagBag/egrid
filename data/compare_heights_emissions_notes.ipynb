{
 "cells": [
  {
   "cell_type": "markdown",
   "id": "c55c744e",
   "metadata": {},
   "source": [
    "# compare_heights_emissions.csv notes\n",
    "\n",
    "The column `comparison_size_in_meters` represents the relative height (in meters) of emissions from different fuels in the US, assuming that gas emissions are the 590m tall Burj Khalifa tower.\n",
    "\n",
    "This was a fun calculation to underscore how drastic the differences between different fuels' emissions are.\n",
    "\n",
    "## Examples\n",
    "\n",
    "If **gas emissions** are represented by the **Burj Khalifa** (world's largest building, 590m):\n",
    "\n",
    "- **Coal emissions** would be as tall as a **four-story office building** (16m).\n",
    "\n",
    "- **Oil emissions** would be a **five-story residential building** (15m). \n",
    "\n",
    "- **Geothermal emissions** would be as tall as **[Danny DeVito](https://www.themeasureofthings.com/results.php?p=1&comp=height&unit=m&amt=1.5&sort=pr)** (1.6m).\n",
    "\n",
    "- **Biomass emissions** would be 93 centimeters tall, which is about the size of a **telephone pole**.\n",
    "\n",
    "- **Nuclear emissions** would be 1 cm tall, about the **diameter of a US penny**.\n",
    "\n",
    "- **Hydro emissions** would be 0.59 mm tall, about the **diameter of a sewing needle**.\n",
    "\n",
    "[(Office buildings are 3.9 m/floor and residential buildings are 3.1 m/floor)](https://www.reference.com/business-finance/tall-three-story-building-bdf4175bef42add3)\n",
    "                                                              \n",
    "\n",
    "## Future visualization ideas:\n",
    "\n",
    "- Try a dot chart like [this](https://hbr.org/2016/01/how-to-make-extreme-numbers-resonate) in Tableau?\n",
    "- [Bubble charts](https://medium.com/@daython3/create-interactive-bubble-charts-with-bokeh-library-in-python-f40ba8677380) are very cool, but our numbers are so huge here that they don't work very well.\n",
    "- Bokeh doesn't allow for log scales on bar charts. Use a [histogram](https://docs.bokeh.org/en/latest/docs/user_guide/topics/stats.html#histogram) with [Numpy data](https://numpy.org/doc/stable/reference/generated/numpy.histogram.html) to get around this issue. Note that newest version of Bokeh requires you to set `bottom` > 0 in a log scale."
   ]
  }
 ],
 "metadata": {
  "kernelspec": {
   "display_name": "Python 3 (ipykernel)",
   "language": "python",
   "name": "python3"
  },
  "language_info": {
   "codemirror_mode": {
    "name": "ipython",
    "version": 3
   },
   "file_extension": ".py",
   "mimetype": "text/x-python",
   "name": "python",
   "nbconvert_exporter": "python",
   "pygments_lexer": "ipython3",
   "version": "3.9.16"
  }
 },
 "nbformat": 4,
 "nbformat_minor": 5
}
